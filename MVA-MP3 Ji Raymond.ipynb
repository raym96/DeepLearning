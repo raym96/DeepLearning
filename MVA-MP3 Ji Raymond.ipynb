{
 "cells": [
  {
   "cell_type": "markdown",
   "metadata": {},
   "source": [
    "**You may need to install [OpenCV](https://pypi.python.org/pypi/opencv-python) and [scikit-video](http://www.scikit-video.org/stable/).**"
   ]
  },
  {
   "cell_type": "markdown",
   "metadata": {},
   "source": [
    "conda install -c conda-forge ffmpeg"
   ]
  },
  {
   "cell_type": "code",
   "execution_count": 1,
   "metadata": {},
   "outputs": [
    {
     "name": "stderr",
     "output_type": "stream",
     "text": [
      "Using TensorFlow backend.\n"
     ]
    }
   ],
   "source": [
    "import keras\n",
    "import numpy as np\n",
    "import io\n",
    "import base64\n",
    "from IPython.display import HTML\n",
    "import skvideo.io\n",
    "import cv2\n",
    "import json\n",
    "\n",
    "from keras.models import Sequential,model_from_json\n",
    "from keras.layers.core import Dense\n",
    "from keras.optimizers import sgd\n",
    "from keras.layers import Conv2D, MaxPooling2D, Activation, GlobalAveragePooling2D,Reshape,BatchNormalization, Dense, Dropout,Flatten"
   ]
  },
  {
   "cell_type": "markdown",
   "metadata": {},
   "source": [
    "# MiniProject #3: Deep Reinforcement Learning"
   ]
  },
  {
   "cell_type": "markdown",
   "metadata": {},
   "source": [
    "__Notations__: $E_p$ is the expectation under probability $p$. Please justify each of your answer and widely comment your code."
   ]
  },
  {
   "cell_type": "markdown",
   "metadata": {},
   "source": [
    "# Context"
   ]
  },
  {
   "cell_type": "markdown",
   "metadata": {},
   "source": [
    "In a reinforcement learning algorithm, we modelize each step $t$ as an action $a_t$ obtained from a state $s_t$, i.e. $\\{(a_{t},s_{t})_{t\\leq T}\\}$ having the Markov property. We consider a discount factor $\\gamma \\in [0,1]$ that ensures convergence. The goal is to find among all the policies $\\pi$, one that maximizes the expected reward:\n",
    "\n",
    "\\begin{equation*}\n",
    "R(\\pi)=\\sum_{t\\leq T}E_{p^{\\pi}}[\\gamma^t r(s_{t},a_{t})] \\> ,\n",
    "\\end{equation*}\n",
    "\n",
    "where: \n",
    "\\begin{equation*}p^{\\pi}(a_{0},a_{1},s_{1},...,a_{T},s_{T})=p(a_{0})\\prod_{t=1}^{T}\\pi(a_{t}|s_{t})p(s_{t+1}|s_{t},a_{t}) \\> .\n",
    "\\end{equation*}\n",
    "\n",
    "We note the $Q$-function:\n",
    "\n",
    "\\begin{equation*}Q^\\pi(s,a)=E_{p^{\\pi}}[\\sum_{t\\leq T}\\gamma^{t}r(s_{t},a_{t})|s_{0}=s,a_{0}=a] \\> .\n",
    "\\end{equation*}\n",
    "\n",
    "Thus, the optimal Q function is:\n",
    "\\begin{equation*}\n",
    "Q^*(s,a)=\\max_{\\pi}Q^\\pi(s,a) \\> .\n",
    "\\end{equation*}\n",
    "\n",
    "In this project, we will apply the deep reinforcement learning techniques to a simple game: an agent will have to learn from scratch a policy that will permit it maximizing a reward."
   ]
  },
  {
   "cell_type": "markdown",
   "metadata": {},
   "source": [
    "## The environment, the agent and the game"
   ]
  },
  {
   "cell_type": "markdown",
   "metadata": {},
   "source": [
    "### The environment"
   ]
  },
  {
   "cell_type": "markdown",
   "metadata": {},
   "source": [
    "```Environment``` is an abstract class that represents the states, rewards, and actions to obtain the new state."
   ]
  },
  {
   "cell_type": "code",
   "execution_count": 2,
   "metadata": {},
   "outputs": [],
   "source": [
    "class Environment(object):\n",
    "    def __init__(self):\n",
    "        pass\n",
    "\n",
    "    def act(self, act):\n",
    "        \"\"\"\n",
    "        One can act on the environment and obtain its reaction:\n",
    "        - the new state\n",
    "        - the reward of the new state\n",
    "        - should we continue the game?\n",
    "\n",
    "        :return: state, reward, game_over\n",
    "        \"\"\"\n",
    "        pass\n",
    "\n",
    "\n",
    "    def reset(self):\n",
    "        \"\"\"\n",
    "        Reinitialize the environment to a random state and returns\n",
    "        the original state\n",
    "\n",
    "        :return: state\n",
    "        \"\"\"\n",
    "        pass\n",
    "    \n",
    "    def draw(self):\n",
    "        \"\"\"\n",
    "        Visualize in the console or graphically the current state\n",
    "        \"\"\"\n",
    "        pass"
   ]
  },
  {
   "cell_type": "markdown",
   "metadata": {},
   "source": [
    "The method ```act``` allows to act on the environment at a given state $s_t$ (stored internally), via action $a_t$. The method will return the new state $s_{t+1}$, the reward $r(s_{t},a_{t})$ and determines if $t\\leq T$ (*game_over*).\n",
    "\n",
    "The method ```reset``` simply reinitializes the environment to a random state $s_0$.\n",
    "\n",
    "The method ```draw``` displays the current state $s_t$ (this is useful to check the behavior of the Agent).\n",
    "\n",
    "We modelize $s_t$ as a tensor, while $a_t$ is an integer."
   ]
  },
  {
   "cell_type": "markdown",
   "metadata": {},
   "source": [
    "### The Agent"
   ]
  },
  {
   "cell_type": "markdown",
   "metadata": {},
   "source": [
    "The goal of the ```Agent``` is to interact with the ```Environment``` by proposing actions $a_t$ obtained from a given state $s_t$ to attempt to maximize its __reward__ $r(s_t,a_t)$. We propose the following abstract class:"
   ]
  },
  {
   "cell_type": "code",
   "execution_count": 3,
   "metadata": {},
   "outputs": [],
   "source": [
    "class Agent(object):\n",
    "    def __init__(self, epsilon=0.1, n_action=4):\n",
    "        self.epsilon = epsilon\n",
    "        self.n_action = n_action\n",
    "    \n",
    "    def set_epsilon(self,e):\n",
    "        self.epsilon = e\n",
    "\n",
    "    def act(self,s,train=True):\n",
    "        \"\"\" This function should return the next action to do:\n",
    "        an integer between 0 and 4 (not included) with a random exploration of epsilon\"\"\"\n",
    "        if train:\n",
    "            if np.random.rand() <= self.epsilon:\n",
    "                a = np.random.randint(0, self.n_action, size=1)[0]\n",
    "            else:\n",
    "                a = self.learned_act(s)\n",
    "        else: # in some cases, this can improve the performance.. remove it if poor performances\n",
    "            a = self.learned_act(s)\n",
    "\n",
    "        return a\n",
    "\n",
    "    def learned_act(self,s):\n",
    "        \"\"\" Act via the policy of the agent, from a given state s\n",
    "        it proposes an action a\"\"\"\n",
    "        pass\n",
    "\n",
    "    def reinforce(self, s, n_s, a, r, game_over_):\n",
    "        \"\"\" This function is the core of the learning algorithm. \n",
    "        It takes as an input the current state s_, the next state n_s_\n",
    "        the action a_ used to move from s_ to n_s_ and the reward r_.\n",
    "        \n",
    "        Its goal is to learn a policy.\n",
    "        \"\"\"\n",
    "        pass\n",
    "\n",
    "    def save(self):\n",
    "        \"\"\" This function returns basic stats if applicable: the\n",
    "        loss and/or the model\"\"\"\n",
    "        pass\n",
    "\n",
    "    def load(self):\n",
    "        \"\"\" This function allows to restore a model\"\"\"\n",
    "        pass"
   ]
  },
  {
   "cell_type": "markdown",
   "metadata": {},
   "source": [
    "***\n",
    "__Question 1__:\n",
    "Explain the function act. Why is ```epsilon``` essential?"
   ]
  },
  {
   "cell_type": "markdown",
   "metadata": {},
   "source": [
    "__Answer 1__: \n",
    "The method act allows the agent to make an action based on the current state **s**. First, it generates a random number between [0,1]. If the random number if smaller than $\\epsilon$, then the agent proceeds to make a random exploration action (here, choosing a random integer between 0 and 4). On the other hand, if the random number is bigger than $\\epsilon$, the agent will call the method learned_act() and act according to the actions he already learned. <br>\n",
    "Therefore, $\\epsilon$ is an essential learning parameter. It is the probability that the agent will select randomly from among all the actions to see if they might be better instead of exploiting current knowledge to maximize immediate reward. In other words, it is the parameter that **controls the trade-off between exploration and exploitation**. <br>\n",
    "If parameter **train** is set to ```False``` then the agent never explores and always chooses exploitation."
   ]
  },
  {
   "cell_type": "markdown",
   "metadata": {},
   "source": [
    "***\n",
    "### The Game"
   ]
  },
  {
   "cell_type": "markdown",
   "metadata": {},
   "source": [
    "The ```Agent``` and the ```Environment``` work in an interlaced way as in the following (take some time to understand this code as it is the core of the project)\n",
    "\n",
    "```python\n",
    "\n",
    "epoch = 300\n",
    "env = Environment()\n",
    "agent = Agent()\n",
    "\n",
    "\n",
    "# Number of won games\n",
    "score = 0\n",
    "loss = 0\n",
    "\n",
    "\n",
    "for e in range(epoch):\n",
    "    # At each epoch, we restart to a fresh game and get the initial state\n",
    "    state = env.reset()\n",
    "    # This assumes that the games will end\n",
    "    game_over = False\n",
    "\n",
    "    win = 0\n",
    "    lose = 0\n",
    "    \n",
    "    while not game_over:\n",
    "        # The agent performs an action\n",
    "        action = agent.act(state)\n",
    "\n",
    "        # Apply an action to the environment, get the next state, the reward\n",
    "        # and if the games end\n",
    "        prev_state = state\n",
    "        state, reward, game_over = env.act(action)\n",
    "\n",
    "        # Update the counters\n",
    "        if reward > 0:\n",
    "            win = win + reward\n",
    "        if reward < 0:\n",
    "            lose = lose -reward\n",
    "\n",
    "        # Apply the reinforcement strategy\n",
    "        loss = agent.reinforce(prev_state, state,  action, reward, game_over)\n",
    "\n",
    "    # Save as a mp4\n",
    "    if e % 10 == 0:\n",
    "        env.draw(e)\n",
    "\n",
    "    # Update stats\n",
    "    score += win-lose\n",
    "\n",
    "    print(\"Epoch {:03d}/{:03d} | Loss {:.4f} | Win/lose count {}/{} ({})\"\n",
    "          .format(e, epoch, loss, win, lose, win-lose))\n",
    "    agent.save()\n",
    "```"
   ]
  },
  {
   "cell_type": "markdown",
   "metadata": {},
   "source": [
    "# The game, *eat cheese*"
   ]
  },
  {
   "cell_type": "markdown",
   "metadata": {},
   "source": [
    "A rat runs on an island and tries to eat as much as possible. The island is subdivided into $N\\times N$ cells, in which there are cheese (+0.5) and poisonous cells (-1). The rat has a visibility of 2 cells (thus it can see $5^2$ cells). The rat is given a time $T$ to accumulate as much food as possible. It can perform 4 actions: going up, down, left, right. \n",
    "\n",
    "The goal is to code an agent to solve this task that will learn by trial and error. We propose the following environment:"
   ]
  },
  {
   "cell_type": "code",
   "execution_count": 4,
   "metadata": {},
   "outputs": [],
   "source": [
    "class Environment(object):\n",
    "    def __init__(self, grid_size=10, max_time=500, temperature=0.1):\n",
    "        grid_size = grid_size+4\n",
    "        self.grid_size = grid_size\n",
    "        self.max_time = max_time\n",
    "        self.temperature = temperature\n",
    "\n",
    "        #board on which one plays\n",
    "        self.board = np.zeros((grid_size,grid_size))\n",
    "        self.position = np.zeros((grid_size,grid_size))\n",
    "\n",
    "        # coordinate of the rat\n",
    "        self.x = 0\n",
    "        self.y = 1\n",
    "\n",
    "        # self time\n",
    "        self.t = 0\n",
    "\n",
    "        self.scale=16\n",
    "\n",
    "        self.to_draw = np.zeros((max_time+2, grid_size*self.scale, grid_size*self.scale, 3))\n",
    "\n",
    "\n",
    "    def draw(self,e):\n",
    "        skvideo.io.vwrite(str(e) + '.mp4', self.to_draw)\n",
    "\n",
    "\n",
    "    def get_frame(self,t):\n",
    "        b = np.zeros((self.grid_size,self.grid_size,3))+128\n",
    "        b[self.board>0,0] = 256\n",
    "        b[self.board < 0, 2] = 256\n",
    "        b[self.x,self.y,:]=256\n",
    "        b[-2:,:,:]=0\n",
    "        b[:,-2:,:]=0\n",
    "        b[:2,:,:]=0\n",
    "        b[:,:2,:]=0\n",
    "        \n",
    "        b =  cv2.resize(b, None, fx=self.scale, fy=self.scale, interpolation=cv2.INTER_NEAREST)\n",
    "\n",
    "        self.to_draw[t,:,:,:]=b\n",
    "\n",
    "\n",
    "    def act(self, action):\n",
    "        \"\"\"This function returns the new state, reward and decides if the\n",
    "        game ends.\"\"\"\n",
    "\n",
    "        self.get_frame(int(self.t))\n",
    "\n",
    "        self.position = np.zeros((self.grid_size, self.grid_size))\n",
    "\n",
    "        self.position[0:2,:]= -1\n",
    "        self.position[:,0:2] = -1\n",
    "        self.position[-2:, :] = -1\n",
    "        self.position[-2:, :] = -1\n",
    "\n",
    "        self.position[self.x, self.y] = 1\n",
    "        if action == 0:\n",
    "            if self.x == self.grid_size-3:\n",
    "                self.x = self.x-1\n",
    "            else:\n",
    "                self.x = self.x + 1\n",
    "        elif action == 1:\n",
    "            if self.x == 2:\n",
    "                self.x = self.x+1\n",
    "            else:\n",
    "                self.x = self.x-1\n",
    "        elif action == 2:\n",
    "            if self.y == self.grid_size - 3:\n",
    "                self.y = self.y - 1\n",
    "            else:\n",
    "                self.y = self.y + 1\n",
    "        elif action == 3:\n",
    "            if self.y == 2:\n",
    "                self.y = self.y + 1\n",
    "            else:\n",
    "                self.y = self.y - 1\n",
    "        else:\n",
    "            RuntimeError('Error: action not recognized')\n",
    "\n",
    "        self.t = self.t + 1\n",
    "        reward = self.board[self.x, self.y]\n",
    "        self.board[self.x, self.y] = 0\n",
    "        game_over = self.t > self.max_time\n",
    "        state = np.concatenate((self.board.reshape(self.grid_size, self.grid_size,1),\n",
    "                        self.position.reshape(self.grid_size, self.grid_size,1)),axis=2)\n",
    "        state = state[self.x-2:self.x+3,self.y-2:self.y+3,:]\n",
    "\n",
    "        return state, reward, game_over\n",
    "\n",
    "    def reset(self):\n",
    "        \"\"\"This function resets the game and returns the initial state\"\"\"\n",
    "\n",
    "        self.x = np.random.randint(3, self.grid_size-3, size=1)[0]\n",
    "        self.y = np.random.randint(3, self.grid_size-3, size=1)[0]\n",
    "\n",
    "\n",
    "        bonus = 0.5*np.random.binomial(1,self.temperature,size=self.grid_size**2)\n",
    "        bonus = bonus.reshape(self.grid_size,self.grid_size)\n",
    "\n",
    "        malus = -1.0*np.random.binomial(1,self.temperature,size=self.grid_size**2)\n",
    "        malus = malus.reshape(self.grid_size, self.grid_size)\n",
    "\n",
    "        self.to_draw = np.zeros((self.max_time+2, self.grid_size*self.scale, self.grid_size*self.scale, 3))\n",
    "\n",
    "\n",
    "        malus[bonus>0]=0\n",
    "\n",
    "        self.board = bonus + malus\n",
    "\n",
    "        self.position = np.zeros((self.grid_size, self.grid_size))\n",
    "        self.position[0:2,:]= -1\n",
    "        self.position[:,0:2] = -1\n",
    "        self.position[-2:, :] = -1\n",
    "        self.position[-2:, :] = -1\n",
    "        self.board[self.x,self.y] = 0\n",
    "        self.t = 0\n",
    "\n",
    "        state = np.concatenate((\n",
    "                               self.board.reshape(self.grid_size, self.grid_size,1),\n",
    "                        self.position.reshape(self.grid_size, self.grid_size,1)),axis=2)\n",
    "\n",
    "        state = state[self.x - 2:self.x + 3, self.y - 2:self.y + 3, :]\n",
    "        return state"
   ]
  },
  {
   "cell_type": "markdown",
   "metadata": {},
   "source": [
    "The following elements are important because they correspond to the hyper parameters for this project:"
   ]
  },
  {
   "cell_type": "code",
   "execution_count": 5,
   "metadata": {},
   "outputs": [],
   "source": [
    "# parameters\n",
    "size = 13\n",
    "T=200\n",
    "temperature=0.3\n",
    "epochs_train=11 # set small when debugging\n",
    "epochs_test=11 # set small when debugging\n",
    "\n",
    "# display videos\n",
    "def display_videos(name):\n",
    "    video = io.open(name, 'r+b').read()\n",
    "    encoded = base64.b64encode(video)\n",
    "    return '''<video alt=\"test\" controls>\n",
    "                <source src=\"data:video/mp4;base64,{0}\" type=\"video/mp4\" />\n",
    "             </video>'''.format(encoded.decode('ascii'))"
   ]
  },
  {
   "cell_type": "markdown",
   "metadata": {},
   "source": [
    "__Question 2__ Explain the use of the arrays ```position``` and ```board```."
   ]
  },
  {
   "cell_type": "markdown",
   "metadata": {},
   "source": [
    "__Answer 2__: <br>\n",
    "```position``` is the array that saves the position of the agent. It allows the agent to know its position ***with regards to the boundaries*** of the environment. Cells that are less than 2 blocks from the borders are assigned a value of -1, the current position of the agent has a value of 1 while other cells have a value of 0. <br>\n",
    "```board``` is the array that represents the environment. It has a size of (grid_size x grid_size) and each cell, representing a cell on the island, is assigned a value upon initialization: -1 for a poisonous food, +0.5 for cheese and 0 if nothing. Each assignment is drawn from a Bernouilli distribution with parameter p = temperature. Therefore, when an agent arrives upon cell (x,y), the value of the board at (x,y) represents the reward that the agent earned at this step."
   ]
  },
  {
   "cell_type": "markdown",
   "metadata": {},
   "source": [
    "## Random Agent"
   ]
  },
  {
   "cell_type": "markdown",
   "metadata": {},
   "source": [
    "***\n",
    "__Question 3__ Implement a random Agent (only ```learned_act``` needs to be implemented):"
   ]
  },
  {
   "cell_type": "code",
   "execution_count": 6,
   "metadata": {},
   "outputs": [],
   "source": [
    "class RandomAgent(Agent):\n",
    "    def __init__(self):\n",
    "        super(RandomAgent, self).__init__()\n",
    "        pass\n",
    "\n",
    "    def learned_act(self, s):\n",
    "        return np.random.randint(4)"
   ]
  },
  {
   "cell_type": "markdown",
   "metadata": {},
   "source": [
    "***\n",
    "***\n",
    "__Question 4__ Visualize the game moves. You need to fill in the following function for the evaluation:"
   ]
  },
  {
   "cell_type": "code",
   "execution_count": 7,
   "metadata": {},
   "outputs": [],
   "source": [
    "def test(agent,env,epochs,prefix=''):\n",
    "    # Number of won games\n",
    "    score = 0\n",
    "        \n",
    "    for e in range(epochs):\n",
    "        \n",
    "        ##### FILL IN HERE\n",
    "        # At each epoch, we restart to a fresh game and get the initial state\n",
    "        state = env.reset()\n",
    "        # This assumes that the games will end\n",
    "        game_over = False\n",
    "\n",
    "        win = 0\n",
    "        lose = 0\n",
    "\n",
    "        while not game_over:\n",
    "            # The agent performs an action\n",
    "            action = agent.act(state)\n",
    "\n",
    "            # Apply an action to the environment, get the next state, the reward\n",
    "            # and if the games end\n",
    "            prev_state = state\n",
    "            state, reward, game_over = env.act(action)\n",
    "\n",
    "            # Update the counters\n",
    "            if reward > 0:\n",
    "                win = win + reward\n",
    "            if reward < 0:\n",
    "                lose = lose -reward\n",
    "\n",
    "            # Apply the reinforcement strategy\n",
    "            loss = agent.reinforce(prev_state, state,  action, reward, game_over)\n",
    "        ##### END FILL IN\n",
    "        \n",
    "        # Save as a mp4\n",
    "        env.draw(prefix+str(e))\n",
    "\n",
    "        # Update stats\n",
    "        score = score + win-lose\n",
    "\n",
    "        print(\"Win/lose count {}/{}. Average score ({})\"\n",
    "              .format(win, lose, score/(1+e)))\n",
    "    print('Final score: '+str(score/epochs))"
   ]
  },
  {
   "cell_type": "code",
   "execution_count": 8,
   "metadata": {},
   "outputs": [
    {
     "name": "stdout",
     "output_type": "stream",
     "text": [
      "Win/lose count 5.0/5.0. Average score (0.0)\n",
      "Win/lose count 11.5/9.0. Average score (1.25)\n",
      "Win/lose count 13.5/9.0. Average score (2.3333333333333335)\n",
      "Win/lose count 6.0/12.0. Average score (0.25)\n",
      "Win/lose count 8.5/15.0. Average score (-1.1)\n",
      "Win/lose count 8.5/7.0. Average score (-0.6666666666666666)\n",
      "Win/lose count 11.0/17.0. Average score (-1.4285714285714286)\n",
      "Win/lose count 5.5/5.0. Average score (-1.1875)\n",
      "Win/lose count 8.0/11.0. Average score (-1.3888888888888888)\n",
      "Win/lose count 12.0/14.0. Average score (-1.45)\n",
      "Win/lose count 9.0/17.0. Average score (-2.0454545454545454)\n",
      "Final score: -2.0454545454545454\n"
     ]
    },
    {
     "data": {
      "text/html": [
       "<video alt=\"test\" controls>\n",
       "                <source src=\"data:video/mp4;base64,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\" type=\"video/mp4\" />\n",
       "             </video>"
      ],
      "text/plain": [
       "<IPython.core.display.HTML object>"
      ]
     },
     "execution_count": 8,
     "metadata": {},
     "output_type": "execute_result"
    }
   ],
   "source": [
    "# Initialize the game\n",
    "env = Environment(grid_size=size, max_time=T,temperature=temperature)\n",
    "\n",
    "# Initialize the agent!\n",
    "agent = RandomAgent()\n",
    "\n",
    "test(agent,env,epochs_test,prefix='random')\n",
    "HTML(display_videos('random0.mp4'))"
   ]
  },
  {
   "cell_type": "markdown",
   "metadata": {},
   "source": [
    "***\n",
    "## DQN"
   ]
  },
  {
   "cell_type": "markdown",
   "metadata": {},
   "source": [
    "Let us assume here that $T=\\infty$.\n",
    "\n",
    "***\n",
    "__Question 5__ Let $\\pi$ be a policy, show that:\n",
    "\n",
    "\\begin{equation*}\n",
    "Q^{\\pi}(s,a)=E_{(s',a')\\sim p(.|s,a)}[r(s,a)+\\gamma Q^{\\pi}(s',a')]\n",
    "\\end{equation*}\n",
    "\n",
    "Then, show that for the optimal policy $\\pi^*$ (we assume its existence), the following holds: \n",
    "\n",
    "\\begin{equation*}\n",
    "Q^{*}(s,a)=E_{s'\\sim \\pi^*(.|s,a)}[r(s,a)+\\gamma\\max_{a'}Q^{*}(s',a')].\n",
    "\\end{equation*}\n",
    "Finally, deduce that a plausible objective is:\n",
    "\n",
    "\\begin{equation*}\n",
    "\\mathcal{L}(\\theta)=E_{s' \\sim \\pi^*(.|s,a)}\\Vert r+\\gamma\\max\\max_{a'}Q(s',a',\\theta)-Q(s,a,\\theta)\\Vert^{2}.\n",
    "\\end{equation*}\n",
    "\n",
    "\n"
   ]
  },
  {
   "cell_type": "markdown",
   "metadata": {},
   "source": [
    "__Answer 5__ We have: <br>\n",
    "\\begin{equation*}\n",
    "\\begin{aligned}\n",
    "Q^\\pi(s,a)&=E_{p^{\\pi}}[\\sum_{t\\leq T}\\gamma^{t}r(s_{t},a_{t})|s_{0}=s,a_{0}=a] \\\\\n",
    "& = E_{p^{\\pi}}[r(s_0,a_0) + \\sum_{1 \\leq t\\leq T}\\gamma^{t}r(s_{t},a_{t})|s_{0}=s,a_{0}=a]\\\\\n",
    "& = E_{p^{\\pi}}[r(s,a) + \\gamma\\sum_{t\\leq T}\\gamma^{t-1}r(s_{t},a_{t})|s_{0}=s,a_{0}=a] \\quad\\text{using the conditionnality} \\\\\n",
    "& = E_{p^{\\pi}}[r(s,a) + \\gamma\\sum_{t\\leq T}\\gamma^{t}r(s_{t+1},a_{t+1})|s_{0}=s,a_{0}=a] \\\\\n",
    "& = E_{p^{\\pi}}[r(s,a) + \\gamma Q^{\\pi}(s',a')|s_{0}=s,a_{0}=a] \\\\\n",
    "Q^\\pi(s,a) &=E_{(s',a')\\sim p(.|s,a)}[r(s,a)+\\gamma Q^{\\pi}(s',a')]\n",
    "\\end{aligned}\n",
    "\\end{equation*}\n",
    "\n",
    "Hence, as the optimal policy $\\pi^*$ is optimal for all states (s,a):\n",
    "\\begin{equation*}\n",
    "\\begin{aligned}\n",
    "Q^{*}(s,a) & = \\max_{\\pi} Q^{\\pi}(s,a) \\\\\n",
    "& = \\max_{\\pi} E_{(s',a')\\sim p(.|s,a)}[r(s,a)+\\gamma Q^{\\pi}(s',a')] \\\\ \n",
    "& =E_{s'\\sim \\pi^*(.|s,a)}[r(s,a)+\\gamma\\max_{a'}Q^{*}(s',a')]\n",
    "\\end{aligned}\n",
    "\\end{equation*}"
   ]
  },
  {
   "cell_type": "markdown",
   "metadata": {},
   "source": [
    "***\n",
    "The DQN-learning algorithm relies on these derivations to train the parameters $\\theta$ of a Deep Neural Network:\n",
    "\n",
    "1. At the state $s_t$, select the action $a_t$ with best reward using $Q_t$ and store the results;\n",
    "\n",
    "2. Obtain the new state $s_{t+1}$ from the environment $p$;\n",
    "\n",
    "3. Store $(s_t,a_t,s_{t+1})$;\n",
    "\n",
    "4. Obtain $Q_{t+1}$ by minimizing  $\\mathcal{L}$ from a recovered batch from the previously stored results.\n",
    "\n",
    "***\n",
    "__Question 6__ Implement the class ```Memory``` that stores moves (in a replay buffer) via ```remember``` and provides a ```random_access``` to these. Specify a maximum memory size to avoid side effects. You can for example use a ```list()``` and set by default ```max_memory=100```."
   ]
  },
  {
   "cell_type": "code",
   "execution_count": 9,
   "metadata": {},
   "outputs": [],
   "source": [
    "class Memory(object):\n",
    "    def __init__(self, max_memory=100):\n",
    "        self.max_memory = max_memory\n",
    "        self.memory = list()\n",
    "\n",
    "    def remember(self, m):\n",
    "        self.memory.append(m)\n",
    "        if len(m) > self.max_memory:\n",
    "            # Remove first object in the memory\n",
    "            self.memory.pop(0)\n",
    "\n",
    "    def random_access(self):\n",
    "        return self.memory[np.random.randint(len(self.memory))]"
   ]
  },
  {
   "cell_type": "markdown",
   "metadata": {},
   "source": [
    "***\n",
    "The pipeline we will use for training is given below:"
   ]
  },
  {
   "cell_type": "code",
   "execution_count": 10,
   "metadata": {},
   "outputs": [],
   "source": [
    "def train(agent,env,epoch,prefix=''):\n",
    "    # Number of won games\n",
    "    score = 0\n",
    "    loss = 0\n",
    "\n",
    "    for e in range(epoch):\n",
    "        # At each epoch, we restart to a fresh game and get the initial state\n",
    "        state = env.reset()\n",
    "        # This assumes that the games will terminate\n",
    "        game_over = False\n",
    "\n",
    "        win = 0\n",
    "        lose = 0\n",
    "\n",
    "        while not game_over:\n",
    "            # The agent performs an action\n",
    "            action = agent.act(state)\n",
    "\n",
    "            # Apply an action to the environment, get the next state, the reward\n",
    "            # and if the games end\n",
    "            prev_state = state\n",
    "            state, reward, game_over = env.act(action)\n",
    "\n",
    "            # Update the counters\n",
    "            if reward > 0:\n",
    "                win = win + reward\n",
    "            if reward < 0:\n",
    "                lose = lose -reward\n",
    "\n",
    "            # Apply the reinforcement strategy\n",
    "            loss = agent.reinforce(prev_state, state,  action, reward, game_over)\n",
    "\n",
    "        # Save as a mp4\n",
    "        if e % 10 == 0:\n",
    "            env.draw(prefix+str(e))\n",
    "\n",
    "        # Update stats\n",
    "        score += win-lose\n",
    "\n",
    "        print(\"Epoch {:03d}/{:03d} | Loss {:.4f} | Win/lose count {}/{} ({})\"\n",
    "              .format(e, epoch, loss, win, lose, win-lose))\n",
    "        agent.save(name_weights=prefix+'model.h5',name_model=prefix+'model.json')"
   ]
  },
  {
   "cell_type": "markdown",
   "metadata": {},
   "source": [
    "***\n",
    "__Question 7__ Implement the DQN training algorithm using a cascade of fully connected layers. You can use different learning rate, batch size or memory size parameters. In particular, the loss might oscillate while the player will start to win the games. You have to find a good criterium."
   ]
  },
  {
   "cell_type": "code",
   "execution_count": 11,
   "metadata": {},
   "outputs": [],
   "source": [
    "class DQN(Agent):\n",
    "    def __init__(self, grid_size,  epsilon = 0.1, memory_size=100, batch_size = 16,n_state=2):\n",
    "        super(DQN, self).__init__(epsilon = epsilon)\n",
    "\n",
    "        # Discount for Q learning\n",
    "        self.discount = 0.99\n",
    "        \n",
    "        self.grid_size = grid_size\n",
    "        \n",
    "        # number of state\n",
    "        self.n_state = n_state\n",
    "\n",
    "        # Memory\n",
    "        self.memory = Memory(memory_size)\n",
    "        \n",
    "        # Batch size when learning\n",
    "        self.batch_size = batch_size\n",
    "\n",
    "    def learned_act(self, s):\n",
    "        act_values = self.model.predict(s[np.newaxis,:])\n",
    "        return np.argmax(act_values) \n",
    "\n",
    "    def reinforce(self, s_, n_s_, a_, r_, game_over_):\n",
    "        # Two steps: first memorize the states, second learn from the pool\n",
    "\n",
    "        self.memory.remember([s_, n_s_, a_, r_, game_over_])\n",
    "        \n",
    "        input_states = np.zeros((self.batch_size, 5,5,self.n_state))\n",
    "        target_q = np.zeros((self.batch_size, 4))\n",
    "        \n",
    "        for i in range(self.batch_size):\n",
    "            ######## FILL IN\n",
    "            s_, n_s_, a_, r_, game_over_  = self.memory.random_access() # m = [s_, n_s_, a_, r_, game_over_]\n",
    "            if game_over_:\n",
    "                ######## FILL IN\n",
    "                target = r_\n",
    "            else:\n",
    "                ######## FILL IN\n",
    "                target = r_ + self.discount * np.max(self.model.predict(n_s_[np.newaxis,:]))\n",
    "            \n",
    "            input_states[i] = s_\n",
    "            \n",
    "            target_q[i] = self.model.predict(s_[np.newaxis,:])\n",
    "            target_q[i][a_] = target\n",
    "            \n",
    "        ######## FILL IN\n",
    "        # HINT: Clip the target to avoid exploiding gradients.. -- clipping is a bit tighter\n",
    "        target_q = np.clip(target_q, -3, 3)\n",
    "\n",
    "        l = self.model.train_on_batch(input_states, target_q)\n",
    "\n",
    "        return l\n",
    "\n",
    "    def save(self,name_weights='model.h5',name_model='model.json'):\n",
    "        self.model.save_weights(name_weights, overwrite=True)\n",
    "        with open(name_model, \"w\") as outfile:\n",
    "            json.dump(self.model.to_json(), outfile)\n",
    "            \n",
    "    def load(self,name_weights='model.h5',name_model='model.json'):\n",
    "        with open(name_model, \"r\") as jfile:\n",
    "            model = model_from_json(json.load(jfile))\n",
    "        model.load_weights(name_weights)\n",
    "        model.compile(\"sgd\", \"mse\")\n",
    "        self.model = model\n",
    "                \n",
    "class DQN_FC(DQN):\n",
    "    def __init__(self, *args, lr=0.1,**kwargs):\n",
    "        super(DQN_FC, self).__init__( *args,**kwargs)\n",
    "        # NN Model\n",
    "        ####### FILL IN\n",
    "        model = Sequential()\n",
    "        model.add(Reshape((5*5*self.n_state,), input_shape=(5,5,self.n_state)))\n",
    "        model.add(Dense(24, input_dim=5*5*self.n_state, activation='relu'))\n",
    "        model.add(Dropout(0.8))\n",
    "        model.add(Dense(24, activation='relu'))\n",
    "        model.add(Dropout(0.8))\n",
    "        model.add(Dense(4, activation='linear'))\n",
    "        model.compile(sgd(lr=lr, decay=1e-4, momentum=0.0), \"mse\")\n",
    "        self.model = model\n",
    "        model.summary()"
   ]
  },
  {
   "cell_type": "code",
   "execution_count": 12,
   "metadata": {},
   "outputs": [
    {
     "name": "stdout",
     "output_type": "stream",
     "text": [
      "_________________________________________________________________\n",
      "Layer (type)                 Output Shape              Param #   \n",
      "=================================================================\n",
      "reshape_1 (Reshape)          (None, 50)                0         \n",
      "_________________________________________________________________\n",
      "dense_1 (Dense)              (None, 24)                1224      \n",
      "_________________________________________________________________\n",
      "dropout_1 (Dropout)          (None, 24)                0         \n",
      "_________________________________________________________________\n",
      "dense_2 (Dense)              (None, 24)                600       \n",
      "_________________________________________________________________\n",
      "dropout_2 (Dropout)          (None, 24)                0         \n",
      "_________________________________________________________________\n",
      "dense_3 (Dense)              (None, 4)                 100       \n",
      "=================================================================\n",
      "Total params: 1,924\n",
      "Trainable params: 1,924\n",
      "Non-trainable params: 0\n",
      "_________________________________________________________________\n",
      "Epoch 000/011 | Loss 0.0157 | Win/lose count 4.0/5.0 (-1.0)\n",
      "Epoch 001/011 | Loss 0.0023 | Win/lose count 1.5/3.0 (-1.5)\n",
      "Epoch 002/011 | Loss 0.0101 | Win/lose count 1.5/2.0 (-0.5)\n",
      "Epoch 003/011 | Loss 0.0055 | Win/lose count 4.0/1.0 (3.0)\n",
      "Epoch 004/011 | Loss 0.0026 | Win/lose count 2.0/3.0 (-1.0)\n",
      "Epoch 005/011 | Loss 0.0105 | Win/lose count 1.0/3.0 (-2.0)\n",
      "Epoch 006/011 | Loss 0.0007 | Win/lose count 1.5/4.0 (-2.5)\n",
      "Epoch 007/011 | Loss 0.0002 | Win/lose count 4.0/4.0 (0.0)\n",
      "Epoch 008/011 | Loss 0.0097 | Win/lose count 1.0/3.0 (-2.0)\n",
      "Epoch 009/011 | Loss 0.0079 | Win/lose count 2.5/8.0 (-5.5)\n",
      "Epoch 010/011 | Loss 0.0101 | Win/lose count 3.0/3.0 (0.0)\n"
     ]
    },
    {
     "data": {
      "text/html": [
       "<video alt=\"test\" controls>\n",
       "                <source src=\"data:video/mp4;base64,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\" type=\"video/mp4\" />\n",
       "             </video>"
      ],
      "text/plain": [
       "<IPython.core.display.HTML object>"
      ]
     },
     "execution_count": 12,
     "metadata": {},
     "output_type": "execute_result"
    }
   ],
   "source": [
    "epochs_train = 11\n",
    "env = Environment(grid_size=size, max_time=T, temperature=0.3)\n",
    "agent = DQN_FC(size, lr=.1, epsilon = 0.1, memory_size=2000, batch_size = 32)\n",
    "train(agent, env, epochs_train, prefix='fc_train')\n",
    "HTML(display_videos('fc_train10.mp4'))"
   ]
  },
  {
   "cell_type": "markdown",
   "metadata": {},
   "source": [
    "***\n",
    "***\n",
    "__Question 8__ Implement the DQN training algorithm using a CNN (for example, 2 convolutional layers and one final fully connected layer)."
   ]
  },
  {
   "cell_type": "code",
   "execution_count": 13,
   "metadata": {},
   "outputs": [],
   "source": [
    "class DQN_CNN(DQN):\n",
    "    def __init__(self, *args,lr=0.1,**kwargs):\n",
    "        super(DQN_CNN, self).__init__(*args,**kwargs)\n",
    "\n",
    "        ###### FILL IN\n",
    "        model = Sequential()\n",
    "        model.add(Conv2D(filters = 16, kernel_size = (2,2), strides = 1, padding = 'valid', activation = 'relu', \n",
    "                 input_shape=(5,5,self.n_state)))\n",
    "        #model.add(MaxPooling2D(pool_size=2, strides=None, padding='same'))\n",
    "        model.add(Conv2D(filters = 16, kernel_size = (2,2), strides = 1, padding = 'valid', activation = 'relu', \n",
    "                 input_shape=(5,5,self.n_state)))\n",
    "        #model.add(GlobalAveragePooling2D())\n",
    "        model.add(Flatten())\n",
    "        model.add(Dense(4, activation='linear'))\n",
    "        model.compile(sgd(lr=lr, decay=1e-4, momentum=0.0), \"mse\")\n",
    "        self.model = model\n",
    "        model.summary()    "
   ]
  },
  {
   "cell_type": "code",
   "execution_count": 14,
   "metadata": {},
   "outputs": [
    {
     "name": "stdout",
     "output_type": "stream",
     "text": [
      "_________________________________________________________________\n",
      "Layer (type)                 Output Shape              Param #   \n",
      "=================================================================\n",
      "conv2d_1 (Conv2D)            (None, 4, 4, 16)          144       \n",
      "_________________________________________________________________\n",
      "conv2d_2 (Conv2D)            (None, 3, 3, 16)          1040      \n",
      "_________________________________________________________________\n",
      "flatten_1 (Flatten)          (None, 144)               0         \n",
      "_________________________________________________________________\n",
      "dense_4 (Dense)              (None, 4)                 580       \n",
      "=================================================================\n",
      "Total params: 1,764\n",
      "Trainable params: 1,764\n",
      "Non-trainable params: 0\n",
      "_________________________________________________________________\n",
      "Epoch 000/011 | Loss 0.0122 | Win/lose count 7.0/6.0 (1.0)\n",
      "Epoch 001/011 | Loss 0.0049 | Win/lose count 3.0/2.0 (1.0)\n",
      "Epoch 002/011 | Loss 0.0259 | Win/lose count 4.5/6.0 (-1.5)\n",
      "Epoch 003/011 | Loss 0.0052 | Win/lose count 3.0/2.0 (1.0)\n",
      "Epoch 004/011 | Loss 0.0235 | Win/lose count 6.0/1.0 (5.0)\n",
      "Epoch 005/011 | Loss 0.0330 | Win/lose count 7.0/5.0 (2.0)\n",
      "Epoch 006/011 | Loss 0.0052 | Win/lose count 2.0/3.0 (-1.0)\n",
      "Epoch 007/011 | Loss 0.0031 | Win/lose count 3.5/0 (3.5)\n",
      "Epoch 008/011 | Loss 0.0243 | Win/lose count 8.5/4.0 (4.5)\n",
      "Epoch 009/011 | Loss 0.0055 | Win/lose count 6.0/2.0 (4.0)\n",
      "Epoch 010/011 | Loss 0.0031 | Win/lose count 8.0/0 (8.0)\n"
     ]
    },
    {
     "data": {
      "text/html": [
       "<video alt=\"test\" controls>\n",
       "                <source src=\"data:video/mp4;base64,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\" type=\"video/mp4\" />\n",
       "             </video>"
      ],
      "text/plain": [
       "<IPython.core.display.HTML object>"
      ]
     },
     "execution_count": 14,
     "metadata": {},
     "output_type": "execute_result"
    }
   ],
   "source": [
    "epochs_train = 11\n",
    "env = Environment(grid_size=size, max_time=T, temperature=0.3)\n",
    "agent = DQN_CNN(size, lr=.2, epsilon = 0.1, memory_size=3000, batch_size = 64)\n",
    "train(agent,env,epochs_train,prefix='cnn_train')\n",
    "HTML(display_videos('cnn_train10.mp4'))"
   ]
  },
  {
   "cell_type": "markdown",
   "metadata": {},
   "source": [
    "***\n",
    "***\n",
    "__Question 9__ Test both algorithms and compare their performances. Which issue(s) do you observe? Observe also different behaviors by changing the temperature."
   ]
  },
  {
   "cell_type": "code",
   "execution_count": 15,
   "metadata": {},
   "outputs": [
    {
     "name": "stdout",
     "output_type": "stream",
     "text": [
      "_________________________________________________________________\n",
      "Layer (type)                 Output Shape              Param #   \n",
      "=================================================================\n",
      "conv2d_3 (Conv2D)            (None, 4, 4, 16)          144       \n",
      "_________________________________________________________________\n",
      "conv2d_4 (Conv2D)            (None, 3, 3, 16)          1040      \n",
      "_________________________________________________________________\n",
      "flatten_2 (Flatten)          (None, 144)               0         \n",
      "_________________________________________________________________\n",
      "dense_5 (Dense)              (None, 4)                 580       \n",
      "=================================================================\n",
      "Total params: 1,764\n",
      "Trainable params: 1,764\n",
      "Non-trainable params: 0\n",
      "_________________________________________________________________\n",
      "_________________________________________________________________\n",
      "Layer (type)                 Output Shape              Param #   \n",
      "=================================================================\n",
      "reshape_2 (Reshape)          (None, 50)                0         \n",
      "_________________________________________________________________\n",
      "dense_6 (Dense)              (None, 24)                1224      \n",
      "_________________________________________________________________\n",
      "dropout_3 (Dropout)          (None, 24)                0         \n",
      "_________________________________________________________________\n",
      "dense_7 (Dense)              (None, 24)                600       \n",
      "_________________________________________________________________\n",
      "dropout_4 (Dropout)          (None, 24)                0         \n",
      "_________________________________________________________________\n",
      "dense_8 (Dense)              (None, 4)                 100       \n",
      "=================================================================\n",
      "Total params: 1,924\n",
      "Trainable params: 1,924\n",
      "Non-trainable params: 0\n",
      "_________________________________________________________________\n",
      "Test of the CNN\n",
      "Win/lose count 3.0/0. Average score (3.0)\n",
      "Win/lose count 4.5/2.0. Average score (2.75)\n",
      "Win/lose count 4.5/2.0. Average score (2.6666666666666665)\n",
      "Win/lose count 4.5/2.0. Average score (2.625)\n",
      "Win/lose count 9.0/0. Average score (3.9)\n",
      "Win/lose count 6.0/3.0. Average score (3.75)\n",
      "Win/lose count 6.5/2.0. Average score (3.857142857142857)\n",
      "Win/lose count 10.5/1.0. Average score (4.5625)\n",
      "Win/lose count 8.5/0. Average score (5.0)\n",
      "Win/lose count 7.5/2.0. Average score (5.05)\n",
      "Win/lose count 5.5/1.0. Average score (5.0)\n",
      "Final score: 5.0\n",
      "Test of the FC\n",
      "Win/lose count 4.5/5.0. Average score (-0.5)\n",
      "Win/lose count 0.5/4.0. Average score (-2.0)\n",
      "Win/lose count 5.0/3.0. Average score (-0.6666666666666666)\n",
      "Win/lose count 2.5/3.0. Average score (-0.625)\n",
      "Win/lose count 2.0/3.0. Average score (-0.7)\n",
      "Win/lose count 2.5/4.0. Average score (-0.8333333333333334)\n",
      "Win/lose count 4.5/1.0. Average score (-0.21428571428571427)\n",
      "Win/lose count 2.0/3.0. Average score (-0.3125)\n",
      "Win/lose count 2.5/7.0. Average score (-0.7777777777777778)\n",
      "Win/lose count 3.5/3.0. Average score (-0.65)\n",
      "Win/lose count 1.5/0. Average score (-0.45454545454545453)\n",
      "Final score: -0.45454545454545453\n"
     ]
    }
   ],
   "source": [
    "env = Environment(grid_size=size, max_time=T,temperature=0.3)\n",
    "agent_cnn = DQN_CNN(size, lr=.1, epsilon = 0.1, memory_size=2000, batch_size = 32)\n",
    "agent_cnn.load(name_weights='cnn_trainmodel.h5',name_model='cnn_trainmodel.json')\n",
    "\n",
    "agent_fc = DQN_FC(size, lr=.1, epsilon = 0.1, memory_size=2000, batch_size = 32)\n",
    "agent_fc.load(name_weights='fc_trainmodel.h5',name_model='fc_trainmodel.json')\n",
    "print('Test of the CNN')\n",
    "test(agent_cnn,env,epochs_test,prefix='cnn_test')\n",
    "print('Test of the FC')\n",
    "test(agent_fc,env,epochs_test,prefix='fc_test')"
   ]
  },
  {
   "cell_type": "code",
   "execution_count": 16,
   "metadata": {},
   "outputs": [
    {
     "data": {
      "text/html": [
       "<video alt=\"test\" controls>\n",
       "                <source src=\"data:video/mp4;base64,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\" type=\"video/mp4\" />\n",
       "             </video>"
      ],
      "text/plain": [
       "<IPython.core.display.HTML object>"
      ]
     },
     "execution_count": 16,
     "metadata": {},
     "output_type": "execute_result"
    }
   ],
   "source": [
    "HTML(display_videos('cnn_test10.mp4'))"
   ]
  },
  {
   "cell_type": "code",
   "execution_count": 17,
   "metadata": {},
   "outputs": [
    {
     "data": {
      "text/html": [
       "<video alt=\"test\" controls>\n",
       "                <source src=\"data:video/mp4;base64,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\" type=\"video/mp4\" />\n",
       "             </video>"
      ],
      "text/plain": [
       "<IPython.core.display.HTML object>"
      ]
     },
     "execution_count": 17,
     "metadata": {},
     "output_type": "execute_result"
    }
   ],
   "source": [
    "HTML(display_videos('fc_test10.mp4'))"
   ]
  },
  {
   "cell_type": "markdown",
   "metadata": {},
   "source": [
    "__Answer__: One issue is that the agent does not explore the map and often gets stuck within a corner at some point. **As the temperature increases, the agent will explore more**: as there are more positive rewards all over the board, it will have more incentive to explore all the board."
   ]
  },
  {
   "cell_type": "markdown",
   "metadata": {},
   "source": [
    "***\n",
    "\n",
    "The algorithm tends to not explore the map which can be an issue. We propose two ideas in order to encourage exploration:\n",
    "1. Incorporating a decreasing $\\epsilon$-greedy exploration. You can use the method ```set_epsilon```\n",
    "2. Append via the environment a new state that describes if a cell has been visited or not\n",
    "\n",
    "***\n",
    "__Question 10__ Design a new ```train_explore``` function and environment class ```EnvironmentExploring``` to tackle the issue of exploration.\n",
    "\n"
   ]
  },
  {
   "cell_type": "code",
   "execution_count": 18,
   "metadata": {},
   "outputs": [],
   "source": [
    "def train_explore(agent,env,epoch,prefix=''):\n",
    "     # Number of won games\n",
    "    score = 0\n",
    "    loss = 0\n",
    "\n",
    "    for e in range(epoch):\n",
    "        # At each epoch, we restart to a fresh game and get the initial state\n",
    "        state = env.reset()\n",
    "        # This assumes that the games will terminate\n",
    "        game_over = False\n",
    "\n",
    "        win = 0\n",
    "        lose = 0\n",
    "        k = 1\n",
    "        while not game_over:\n",
    "            agent.set_epsilon(np.exp(-k))\n",
    "            k += 1\n",
    "            # The agent performs an action\n",
    "            action = agent.act(state)\n",
    "\n",
    "            # Apply an action to the environment, get the next state, the reward\n",
    "            # and if the games end\n",
    "            prev_state = state\n",
    "            state, reward, game_over = env.act(action, train = True)\n",
    "\n",
    "            # Update the counters\n",
    "            if reward > 0:\n",
    "                win = win + reward\n",
    "            if reward < 0:\n",
    "                lose = lose -reward\n",
    "            # Apply the reinforcement strategy\n",
    "            loss = agent.reinforce(prev_state, state,  action, reward, game_over)\n",
    "\n",
    "        # Save as a mp4\n",
    "        if e % 10 == 0:\n",
    "            env.draw(prefix+str(e))\n",
    "\n",
    "        # Update stats\n",
    "        score += win-lose\n",
    "\n",
    "        print(\"Epoch {:03d}/{:03d} | Loss {:.4f} | Win/lose count {}/{} ({})\"\n",
    "              .format(e, epoch, loss, win, lose, win-lose))\n",
    "        agent.save(name_weights=prefix+'model.h5',name_model=prefix+'model.json')\n",
    "        \n",
    "\n",
    "class EnvironmentExploring(object):\n",
    "    def __init__(self, grid_size=10, max_time=500, temperature=0.1):\n",
    "        grid_size = grid_size+4\n",
    "        self.grid_size = grid_size\n",
    "        self.max_time = max_time\n",
    "        self.temperature = temperature\n",
    "\n",
    "        #board on which one plays\n",
    "        self.board = np.zeros((grid_size,grid_size))\n",
    "        self.position = np.zeros((grid_size,grid_size))\n",
    "        self.malus_position = np.zeros((grid_size,grid_size))\n",
    "\n",
    "        # coordinate of the rat\n",
    "        self.x = 0\n",
    "        self.y = 1\n",
    "\n",
    "        # self time\n",
    "        self.t = 0\n",
    "\n",
    "        self.scale=16\n",
    "\n",
    "        self.to_draw = np.zeros((max_time+2, grid_size*self.scale, grid_size*self.scale, 3))\n",
    "\n",
    "\n",
    "    def draw(self,e):\n",
    "        skvideo.io.vwrite(str(e) + '.mp4', self.to_draw)\n",
    "\n",
    "\n",
    "    def get_frame(self,t):\n",
    "        b = np.zeros((self.grid_size,self.grid_size,3))+128\n",
    "        b[self.board>0,0] = 256\n",
    "        b[self.board < 0, 2] = 256\n",
    "        b[self.x,self.y,:]=256\n",
    "        b[-2:,:,:]=0\n",
    "        b[:,-2:,:]=0\n",
    "        b[:2,:,:]=0\n",
    "        b[:,:2,:]=0\n",
    "        \n",
    "        b =  cv2.resize(b, None, fx=self.scale, fy=self.scale, interpolation=cv2.INTER_NEAREST)\n",
    "\n",
    "        self.to_draw[t,:,:,:]=b\n",
    "\n",
    "\n",
    "    def act(self, action, train=False):\n",
    "        \"\"\"This function returns the new state, reward and decides if the\n",
    "        game ends.\"\"\"\n",
    "\n",
    "        self.get_frame(int(self.t))\n",
    "\n",
    "        self.position = np.zeros((self.grid_size, self.grid_size))\n",
    "\n",
    "        self.position[0:2,:]= -1\n",
    "        self.position[:,0:2] = -1\n",
    "        self.position[-2:, :] = -1\n",
    "        self.position[-2:, :] = -1\n",
    "\n",
    "        self.position[self.x, self.y] = 1\n",
    "        if action == 0:\n",
    "            if self.x == self.grid_size-3:\n",
    "                self.x = self.x-1\n",
    "            else:\n",
    "                self.x = self.x + 1\n",
    "        elif action == 1:\n",
    "            if self.x == 2:\n",
    "                self.x = self.x+1\n",
    "            else:\n",
    "                self.x = self.x-1\n",
    "        elif action == 2:\n",
    "            if self.y == self.grid_size - 3:\n",
    "                self.y = self.y - 1\n",
    "            else:\n",
    "                self.y = self.y + 1\n",
    "        elif action == 3:\n",
    "            if self.y == 2:\n",
    "                self.y = self.y + 1\n",
    "            else:\n",
    "                self.y = self.y - 1\n",
    "        else:\n",
    "            RuntimeError('Error: action not recognized')\n",
    "\n",
    "        self.t = self.t + 1\n",
    "        \n",
    "        ### MALUS\n",
    "        reward = self.board[self.x, self.y]\n",
    "        if train:\n",
    "            reward = reward - self.malus_position[self.x, self.y]\n",
    "        self.malus_position[self.x, self.y] = 0.1\n",
    "        \n",
    "        self.board[self.x, self.y] = 0\n",
    "        game_over = self.t > self.max_time\n",
    "        state = np.concatenate((self.malus_position.reshape(self.grid_size, self.grid_size,1),\n",
    "                                self.board.reshape(self.grid_size, self.grid_size,1),\n",
    "                        self.position.reshape(self.grid_size, self.grid_size,1)),axis=2)\n",
    "        state = state[self.x-2:self.x+3,self.y-2:self.y+3,:]\n",
    "\n",
    "        return state, reward, game_over\n",
    "\n",
    "    def reset(self):\n",
    "        \"\"\"This function resets the game and returns the initial state\"\"\"\n",
    "\n",
    "        self.x = np.random.randint(3, self.grid_size-3, size=1)[0]\n",
    "        self.y = np.random.randint(3, self.grid_size-3, size=1)[0]\n",
    "\n",
    "\n",
    "        bonus = 0.5*np.random.binomial(1,self.temperature,size=self.grid_size**2)\n",
    "        bonus = bonus.reshape(self.grid_size,self.grid_size)\n",
    "\n",
    "        malus = -1.0*np.random.binomial(1,self.temperature,size=self.grid_size**2)\n",
    "        malus = malus.reshape(self.grid_size, self.grid_size)\n",
    "\n",
    "        self.to_draw = np.zeros((self.max_time+2, self.grid_size*self.scale, self.grid_size*self.scale, 3))\n",
    "\n",
    "        \n",
    "        malus[bonus>0]=0\n",
    "\n",
    "        self.board = bonus + malus\n",
    "\n",
    "        self.position = np.zeros((self.grid_size, self.grid_size))\n",
    "        self.position[0:2,:]= -1\n",
    "        self.position[:,0:2] = -1\n",
    "        self.position[-2:, :] = -1\n",
    "        self.position[-2:, :] = -1\n",
    "        self.board[self.x,self.y] = 0\n",
    "        self.t = 0\n",
    "        \n",
    "        self.malus_position = np.zeros((self.grid_size, self.grid_size))\n",
    "\n",
    "        state = np.concatenate((self.malus_position.reshape(self.grid_size, self.grid_size,1),\n",
    "                                self.board.reshape(self.grid_size, self.grid_size,1),\n",
    "                        self.position.reshape(self.grid_size, self.grid_size,1)),axis=2)\n",
    "\n",
    "        state = state[self.x - 2:self.x + 3, self.y - 2:self.y + 3, :]\n",
    "        return state\n",
    "    \n"
   ]
  },
  {
   "cell_type": "code",
   "execution_count": 19,
   "metadata": {},
   "outputs": [
    {
     "name": "stdout",
     "output_type": "stream",
     "text": [
      "_________________________________________________________________\n",
      "Layer (type)                 Output Shape              Param #   \n",
      "=================================================================\n",
      "conv2d_5 (Conv2D)            (None, 4, 4, 16)          208       \n",
      "_________________________________________________________________\n",
      "conv2d_6 (Conv2D)            (None, 3, 3, 16)          1040      \n",
      "_________________________________________________________________\n",
      "flatten_3 (Flatten)          (None, 144)               0         \n",
      "_________________________________________________________________\n",
      "dense_9 (Dense)              (None, 4)                 580       \n",
      "=================================================================\n",
      "Total params: 1,828\n",
      "Trainable params: 1,828\n",
      "Non-trainable params: 0\n",
      "_________________________________________________________________\n",
      "Epoch 000/011 | Loss 0.0059 | Win/lose count 4.5/22.300000000000054 (-17.800000000000054)\n",
      "Epoch 001/011 | Loss 0.0034 | Win/lose count 4.5/20.80000000000003 (-16.30000000000003)\n",
      "Epoch 002/011 | Loss 0.0131 | Win/lose count 3.0/18.499999999999993 (-15.499999999999993)\n",
      "Epoch 003/011 | Loss 0.0053 | Win/lose count 2.5/19.100000000000005 (-16.600000000000005)\n",
      "Epoch 004/011 | Loss 0.0079 | Win/lose count 5.0/17.69999999999998 (-12.699999999999982)\n",
      "Epoch 005/011 | Loss 0.0140 | Win/lose count 9.5/19.300000000000008 (-9.800000000000008)\n",
      "Epoch 006/011 | Loss 0.0057 | Win/lose count 6.5/18.09999999999998 (-11.59999999999998)\n",
      "Epoch 007/011 | Loss 0.0035 | Win/lose count 7.0/17.49999999999998 (-10.499999999999979)\n",
      "Epoch 008/011 | Loss 0.0069 | Win/lose count 7.5/16.89999999999997 (-9.39999999999997)\n",
      "Epoch 009/011 | Loss 0.0053 | Win/lose count 2.0/18.39999999999999 (-16.39999999999999)\n",
      "Epoch 010/011 | Loss 0.0032 | Win/lose count 14.0/15.799999999999962 (-1.7999999999999616)\n"
     ]
    },
    {
     "data": {
      "text/html": [
       "<video alt=\"test\" controls>\n",
       "                <source src=\"data:video/mp4;base64,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\" type=\"video/mp4\" />\n",
       "             </video>"
      ],
      "text/plain": [
       "<IPython.core.display.HTML object>"
      ]
     },
     "execution_count": 19,
     "metadata": {},
     "output_type": "execute_result"
    }
   ],
   "source": [
    "# Training\n",
    "env = EnvironmentExploring(grid_size=size, max_time=T, temperature=0.3)\n",
    "agent = DQN_CNN(size, lr=.1, epsilon = 0.4, memory_size=2000, batch_size = 64,n_state=3)\n",
    "train_explore(agent, env, epochs_train, prefix='cnn_train_explore')\n",
    "HTML(display_videos('cnn_train_explore10.mp4'))"
   ]
  },
  {
   "cell_type": "code",
   "execution_count": 20,
   "metadata": {},
   "outputs": [
    {
     "name": "stdout",
     "output_type": "stream",
     "text": [
      "Win/lose count 4.5/0. Average score (4.5)\n",
      "Win/lose count 8.0/1.0. Average score (5.75)\n",
      "Win/lose count 11.5/1.0. Average score (7.333333333333333)\n",
      "Win/lose count 5.0/0. Average score (6.75)\n",
      "Win/lose count 8.5/1.0. Average score (6.9)\n",
      "Win/lose count 12.0/1.0. Average score (7.583333333333333)\n",
      "Win/lose count 4.5/0. Average score (7.142857142857143)\n",
      "Win/lose count 13.0/0. Average score (7.875)\n",
      "Win/lose count 11.5/1.0. Average score (8.166666666666666)\n",
      "Win/lose count 11.5/0. Average score (8.5)\n",
      "Win/lose count 7.5/0. Average score (8.409090909090908)\n",
      "Final score: 8.409090909090908\n"
     ]
    },
    {
     "data": {
      "text/html": [
       "<video alt=\"test\" controls>\n",
       "                <source src=\"data:video/mp4;base64,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\" type=\"video/mp4\" />\n",
       "             </video>"
      ],
      "text/plain": [
       "<IPython.core.display.HTML object>"
      ]
     },
     "execution_count": 20,
     "metadata": {},
     "output_type": "execute_result"
    }
   ],
   "source": [
    "# Evaluation\n",
    "test(agent,env,epochs_test,prefix='cnn_test_explore')\n",
    "HTML(display_videos('cnn_test_explore10.mp4'))"
   ]
  },
  {
   "cell_type": "markdown",
   "metadata": {},
   "source": [
    "__Answer__: <br>\n",
    "The agent is now much smarter !"
   ]
  },
  {
   "cell_type": "markdown",
   "metadata": {},
   "source": [
    "***\n",
    "***\n",
    "__BONUS question__ Use the expert DQN from the previous question to generate some winning games. Train a model that mimicks its behavior. Compare the performances."
   ]
  },
  {
   "cell_type": "code",
   "execution_count": 21,
   "metadata": {
    "scrolled": false
   },
   "outputs": [
    {
     "name": "stdout",
     "output_type": "stream",
     "text": [
      "_________________________________________________________________\n",
      "Layer (type)                 Output Shape              Param #   \n",
      "=================================================================\n",
      "conv2d_7 (Conv2D)            (None, 4, 4, 16)          208       \n",
      "_________________________________________________________________\n",
      "conv2d_8 (Conv2D)            (None, 3, 3, 16)          1040      \n",
      "_________________________________________________________________\n",
      "flatten_4 (Flatten)          (None, 144)               0         \n",
      "_________________________________________________________________\n",
      "dense_10 (Dense)             (None, 4)                 580       \n",
      "=================================================================\n",
      "Total params: 1,828\n",
      "Trainable params: 1,828\n",
      "Non-trainable params: 0\n",
      "_________________________________________________________________\n",
      "Epoch 000/101 | Loss 0.0025 | Win/lose count 5.5/22.40000000000005 (-16.90000000000005)\n",
      "Epoch 001/101 | Loss 0.0038 | Win/lose count 4.0/18.39999999999999 (-14.399999999999991)\n",
      "Epoch 002/101 | Loss 0.0163 | Win/lose count 2.5/20.00000000000002 (-17.50000000000002)\n",
      "Epoch 003/101 | Loss 0.0020 | Win/lose count 3.0/20.400000000000027 (-17.400000000000027)\n",
      "Epoch 004/101 | Loss 0.0088 | Win/lose count 14.5/15.099999999999962 (-0.5999999999999623)\n",
      "Epoch 005/101 | Loss 0.0064 | Win/lose count 5.5/18.8 (-13.3)\n",
      "Epoch 006/101 | Loss 0.0068 | Win/lose count 5.5/17.899999999999984 (-12.399999999999984)\n",
      "Epoch 007/101 | Loss 0.0027 | Win/lose count 4.5/17.799999999999983 (-13.299999999999983)\n",
      "Epoch 008/101 | Loss 0.0108 | Win/lose count 5.5/18.700000000000003 (-13.200000000000003)\n",
      "Epoch 009/101 | Loss 0.0128 | Win/lose count 1.5/19.300000000000004 (-17.800000000000004)\n",
      "Epoch 010/101 | Loss 0.0082 | Win/lose count 2.5/18.699999999999996 (-16.199999999999996)\n",
      "Epoch 011/101 | Loss 0.0054 | Win/lose count 4.0/18.599999999999994 (-14.599999999999994)\n",
      "Epoch 012/101 | Loss 0.0065 | Win/lose count 6.0/19.300000000000008 (-13.300000000000008)\n",
      "Epoch 013/101 | Loss 0.0127 | Win/lose count 6.0/17.199999999999974 (-11.199999999999974)\n",
      "Epoch 014/101 | Loss 0.0204 | Win/lose count 3.0/19.300000000000004 (-16.300000000000004)\n",
      "Epoch 015/101 | Loss 0.0046 | Win/lose count 2.5/18.29999999999999 (-15.79999999999999)\n",
      "Epoch 016/101 | Loss 0.0169 | Win/lose count 6.5/17.099999999999973 (-10.599999999999973)\n",
      "Epoch 017/101 | Loss 0.0114 | Win/lose count 0.5/19.400000000000006 (-18.900000000000006)\n",
      "Epoch 018/101 | Loss 0.0071 | Win/lose count 9.0/16.79999999999997 (-7.799999999999969)\n",
      "Epoch 019/101 | Loss 0.0066 | Win/lose count 8.5/17.799999999999986 (-9.299999999999986)\n",
      "Epoch 020/101 | Loss 0.0059 | Win/lose count 16.5/13.799999999999967 (2.700000000000033)\n",
      "Epoch 021/101 | Loss 0.0034 | Win/lose count 5.0/18.900000000000002 (-13.900000000000002)\n",
      "Epoch 022/101 | Loss 0.0057 | Win/lose count 6.0/16.29999999999996 (-10.299999999999962)\n",
      "Epoch 023/101 | Loss 0.0166 | Win/lose count 13.0/15.79999999999996 (-2.79999999999996)\n",
      "Epoch 024/101 | Loss 0.0058 | Win/lose count 13.5/16.199999999999967 (-2.6999999999999673)\n",
      "Epoch 025/101 | Loss 0.0068 | Win/lose count 12.5/18.099999999999984 (-5.599999999999984)\n",
      "Epoch 026/101 | Loss 0.0213 | Win/lose count 18.0/15.499999999999961 (2.500000000000039)\n",
      "Epoch 027/101 | Loss 0.0052 | Win/lose count 22.5/12.199999999999973 (10.300000000000027)\n",
      "Epoch 028/101 | Loss 0.0042 | Win/lose count 23.5/12.599999999999975 (10.900000000000025)\n",
      "Epoch 029/101 | Loss 0.0163 | Win/lose count 1.0/19.500000000000007 (-18.500000000000007)\n",
      "Epoch 030/101 | Loss 0.0045 | Win/lose count 14.5/13.599999999999968 (0.9000000000000323)\n",
      "Epoch 031/101 | Loss 0.0043 | Win/lose count 12.0/18.7 (-6.699999999999999)\n",
      "Epoch 032/101 | Loss 0.0046 | Win/lose count 12.0/14.699999999999964 (-2.6999999999999638)\n",
      "Epoch 033/101 | Loss 0.0032 | Win/lose count 6.0/17.399999999999977 (-11.399999999999977)\n",
      "Epoch 034/101 | Loss 0.0058 | Win/lose count 15.5/15.299999999999962 (0.20000000000003837)\n",
      "Epoch 035/101 | Loss 0.0060 | Win/lose count 12.5/15.299999999999963 (-2.7999999999999634)\n",
      "Epoch 036/101 | Loss 0.0073 | Win/lose count 20.5/12.399999999999972 (8.100000000000028)\n",
      "Epoch 037/101 | Loss 0.0073 | Win/lose count 13.5/15.79999999999996 (-2.29999999999996)\n",
      "Epoch 038/101 | Loss 0.0187 | Win/lose count 15.0/13.199999999999969 (1.800000000000031)\n",
      "Epoch 039/101 | Loss 0.0086 | Win/lose count 9.0/16.399999999999963 (-7.399999999999963)\n",
      "Epoch 040/101 | Loss 0.0060 | Win/lose count 14.0/14.499999999999964 (-0.4999999999999645)\n",
      "Epoch 041/101 | Loss 0.0158 | Win/lose count 15.5/15.89999999999996 (-0.3999999999999595)\n",
      "Epoch 042/101 | Loss 0.0075 | Win/lose count 20.0/11.099999999999977 (8.900000000000023)\n",
      "Epoch 043/101 | Loss 0.0267 | Win/lose count 13.5/15.299999999999962 (-1.7999999999999616)\n",
      "Epoch 044/101 | Loss 0.0352 | Win/lose count 8.0/17.799999999999983 (-9.799999999999983)\n",
      "Epoch 045/101 | Loss 0.0071 | Win/lose count 19.5/15.199999999999966 (4.3000000000000345)\n",
      "Epoch 046/101 | Loss 0.0070 | Win/lose count 8.0/17.299999999999976 (-9.299999999999976)\n",
      "Epoch 047/101 | Loss 0.0068 | Win/lose count 3.0/18.29999999999999 (-15.29999999999999)\n",
      "Epoch 048/101 | Loss 0.0052 | Win/lose count 13.5/13.999999999999966 (-0.49999999999996625)\n",
      "Epoch 049/101 | Loss 0.0198 | Win/lose count 16.0/14.999999999999963 (1.0000000000000373)\n",
      "Epoch 050/101 | Loss 0.0080 | Win/lose count 23.0/12.299999999999972 (10.700000000000028)\n",
      "Epoch 051/101 | Loss 0.0096 | Win/lose count 23.0/12.99999999999997 (10.00000000000003)\n",
      "Epoch 052/101 | Loss 0.0177 | Win/lose count 14.0/15.299999999999962 (-1.2999999999999616)\n",
      "Epoch 053/101 | Loss 0.0106 | Win/lose count 15.0/15.099999999999966 (-0.0999999999999659)\n",
      "Epoch 054/101 | Loss 0.0209 | Win/lose count 27.0/11.699999999999978 (15.300000000000022)\n",
      "Epoch 055/101 | Loss 0.0242 | Win/lose count 13.0/15.299999999999962 (-2.2999999999999616)\n",
      "Epoch 056/101 | Loss 0.0229 | Win/lose count 15.0/15.099999999999964 (-0.09999999999996412)\n",
      "Epoch 057/101 | Loss 0.0068 | Win/lose count 18.0/13.699999999999967 (4.300000000000033)\n",
      "Epoch 058/101 | Loss 0.0093 | Win/lose count 23.5/9.89999999999998 (13.60000000000002)\n",
      "Epoch 059/101 | Loss 0.0048 | Win/lose count 14.0/12.79999999999997 (1.2000000000000295)\n",
      "Epoch 060/101 | Loss 0.0214 | Win/lose count 23.5/12.999999999999968 (10.500000000000032)\n",
      "Epoch 061/101 | Loss 0.0037 | Win/lose count 14.0/17.799999999999965 (-3.799999999999965)\n",
      "Epoch 062/101 | Loss 0.0058 | Win/lose count 26.0/12.199999999999978 (13.800000000000022)\n",
      "Epoch 063/101 | Loss 0.0502 | Win/lose count 20.0/13.199999999999969 (6.800000000000031)\n",
      "Epoch 064/101 | Loss 0.0061 | Win/lose count 13.5/13.299999999999969 (0.20000000000003126)\n",
      "Epoch 065/101 | Loss 0.0060 | Win/lose count 19.0/10.699999999999978 (8.300000000000022)\n",
      "Epoch 066/101 | Loss 0.0085 | Win/lose count 22.5/13.599999999999977 (8.900000000000023)\n",
      "Epoch 067/101 | Loss 0.0462 | Win/lose count 16.5/14.799999999999963 (1.7000000000000366)\n",
      "Epoch 068/101 | Loss 0.0077 | Win/lose count 16.5/12.69999999999997 (3.800000000000029)\n",
      "Epoch 069/101 | Loss 0.0077 | Win/lose count 22.0/15.399999999999961 (6.600000000000039)\n",
      "Epoch 070/101 | Loss 0.0056 | Win/lose count 18.5/11.699999999999974 (6.800000000000026)\n",
      "Epoch 071/101 | Loss 0.0074 | Win/lose count 15.5/14.199999999999966 (1.3000000000000345)\n",
      "Epoch 072/101 | Loss 0.0067 | Win/lose count 8.0/17.899999999999984 (-9.899999999999984)\n",
      "Epoch 073/101 | Loss 0.0035 | Win/lose count 20.0/13.09999999999997 (6.9000000000000306)\n",
      "Epoch 074/101 | Loss 0.0044 | Win/lose count 24.5/11.79999999999998 (12.70000000000002)\n",
      "Epoch 075/101 | Loss 0.0114 | Win/lose count 2.5/20.000000000000018 (-17.500000000000018)\n",
      "Epoch 076/101 | Loss 0.0073 | Win/lose count 19.5/10.899999999999977 (8.600000000000023)\n",
      "Epoch 077/101 | Loss 0.0075 | Win/lose count 6.5/17.999999999999986 (-11.499999999999986)\n",
      "Epoch 078/101 | Loss 0.0074 | Win/lose count 24.0/13.499999999999977 (10.500000000000023)\n",
      "Epoch 079/101 | Loss 0.0078 | Win/lose count 23.5/12.099999999999973 (11.400000000000027)\n",
      "Epoch 080/101 | Loss 0.0097 | Win/lose count 23.0/12.199999999999976 (10.800000000000024)\n",
      "Epoch 081/101 | Loss 0.0061 | Win/lose count 22.0/12.799999999999974 (9.200000000000026)\n",
      "Epoch 082/101 | Loss 0.0248 | Win/lose count 26.5/11.799999999999978 (14.700000000000022)\n"
     ]
    },
    {
     "name": "stdout",
     "output_type": "stream",
     "text": [
      "Epoch 083/101 | Loss 0.0079 | Win/lose count 17.0/17.399999999999977 (-0.39999999999997726)\n",
      "Epoch 084/101 | Loss 0.0079 | Win/lose count 15.5/13.399999999999968 (2.1000000000000316)\n",
      "Epoch 085/101 | Loss 0.0182 | Win/lose count 16.5/14.299999999999972 (2.2000000000000277)\n",
      "Epoch 086/101 | Loss 0.0388 | Win/lose count 14.0/15.69999999999996 (-1.6999999999999602)\n",
      "Epoch 087/101 | Loss 0.0047 | Win/lose count 0.5/19.900000000000013 (-19.400000000000013)\n",
      "Epoch 088/101 | Loss 0.0537 | Win/lose count 15.5/15.299999999999962 (0.20000000000003837)\n",
      "Epoch 089/101 | Loss 0.0035 | Win/lose count 17.5/15.099999999999962 (2.4000000000000377)\n",
      "Epoch 090/101 | Loss 0.0261 | Win/lose count 18.5/13.199999999999969 (5.300000000000031)\n",
      "Epoch 091/101 | Loss 0.0074 | Win/lose count 12.0/20.40000000000003 (-8.40000000000003)\n",
      "Epoch 092/101 | Loss 0.0407 | Win/lose count 17.0/12.69999999999997 (4.300000000000029)\n",
      "Epoch 093/101 | Loss 0.0071 | Win/lose count 11.0/16.899999999999977 (-5.899999999999977)\n",
      "Epoch 094/101 | Loss 0.0078 | Win/lose count 19.0/13.999999999999964 (5.0000000000000355)\n",
      "Epoch 095/101 | Loss 0.0130 | Win/lose count 10.5/16.299999999999965 (-5.799999999999965)\n",
      "Epoch 096/101 | Loss 0.0186 | Win/lose count 27.0/9.999999999999984 (17.000000000000014)\n",
      "Epoch 097/101 | Loss 0.0333 | Win/lose count 26.5/11.799999999999981 (14.700000000000019)\n",
      "Epoch 098/101 | Loss 0.0088 | Win/lose count 22.5/12.199999999999978 (10.300000000000022)\n",
      "Epoch 099/101 | Loss 0.0557 | Win/lose count 27.0/12.799999999999974 (14.200000000000026)\n",
      "Epoch 100/101 | Loss 0.0070 | Win/lose count 6.5/16.99999999999997 (-10.499999999999972)\n"
     ]
    },
    {
     "data": {
      "text/html": [
       "<video alt=\"test\" controls>\n",
       "                <source src=\"data:video/mp4;base64,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\" type=\"video/mp4\" />\n",
       "             </video>"
      ],
      "text/plain": [
       "<IPython.core.display.HTML object>"
      ]
     },
     "execution_count": 21,
     "metadata": {},
     "output_type": "execute_result"
    }
   ],
   "source": [
    "# Training\n",
    "epochs_train = 101\n",
    "env = EnvironmentExploring(grid_size=size, max_time=T, temperature=0.3)\n",
    "agent = DQN_CNN(size, lr=.1, epsilon = 0.4, memory_size=2000, batch_size = 64,n_state=3)\n",
    "train_explore(agent, env, epochs_train, prefix='cnn_train_explore')\n",
    "HTML(display_videos('cnn_train_explore40.mp4'))"
   ]
  },
  {
   "cell_type": "code",
   "execution_count": 30,
   "metadata": {},
   "outputs": [
    {
     "name": "stdout",
     "output_type": "stream",
     "text": [
      "Win/lose count 24.5/1.0. Average score (23.5)\n",
      "Win/lose count 20.0/1.0. Average score (21.25)\n",
      "Win/lose count 22.0/1.0. Average score (21.166666666666668)\n",
      "Win/lose count 2.5/1.0. Average score (16.25)\n",
      "Win/lose count 1.0/0. Average score (13.2)\n",
      "Win/lose count 10.0/0. Average score (12.666666666666666)\n",
      "Win/lose count 9.0/0. Average score (12.142857142857142)\n",
      "Win/lose count 11.0/0. Average score (12.0)\n",
      "Win/lose count 20.0/1.0. Average score (12.777777777777779)\n",
      "Win/lose count 15.5/0. Average score (13.05)\n",
      "Win/lose count 26.5/2.0. Average score (14.090909090909092)\n",
      "Win/lose count 18.0/1.0. Average score (14.333333333333334)\n",
      "Win/lose count 5.0/0. Average score (13.615384615384615)\n",
      "Win/lose count 24.0/1.0. Average score (14.285714285714286)\n",
      "Win/lose count 15.5/1.0. Average score (14.3)\n",
      "Win/lose count 20.5/0. Average score (14.6875)\n",
      "Win/lose count 25.0/2.0. Average score (15.176470588235293)\n",
      "Win/lose count 17.5/1.0. Average score (15.25)\n",
      "Win/lose count 15.5/1.0. Average score (15.210526315789474)\n",
      "Win/lose count 5.0/0. Average score (14.7)\n",
      "Final score: 14.7\n"
     ]
    }
   ],
   "source": [
    "# Evaluation\n",
    "epochs_test = 20\n",
    "test(agent,env,epochs_test,prefix='cnn_test_explore')"
   ]
  },
  {
   "cell_type": "markdown",
   "metadata": {},
   "source": [
    "# Some good games:"
   ]
  },
  {
   "cell_type": "code",
   "execution_count": 31,
   "metadata": {},
   "outputs": [
    {
     "data": {
      "text/html": [
       "<video alt=\"test\" controls>\n",
       "                <source src=\"data:video/mp4;base64,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\" type=\"video/mp4\" />\n",
       "             </video>"
      ],
      "text/plain": [
       "<IPython.core.display.HTML object>"
      ]
     },
     "execution_count": 31,
     "metadata": {},
     "output_type": "execute_result"
    }
   ],
   "source": [
    "HTML(display_videos('cnn_test_explore0.mp4'))"
   ]
  },
  {
   "cell_type": "code",
   "execution_count": 32,
   "metadata": {
    "scrolled": true
   },
   "outputs": [
    {
     "data": {
      "text/html": [
       "<video alt=\"test\" controls>\n",
       "                <source src=\"data:video/mp4;base64,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\" type=\"video/mp4\" />\n",
       "             </video>"
      ],
      "text/plain": [
       "<IPython.core.display.HTML object>"
      ]
     },
     "execution_count": 32,
     "metadata": {},
     "output_type": "execute_result"
    }
   ],
   "source": [
    "HTML(display_videos('cnn_test_explore1.mp4'))"
   ]
  },
  {
   "cell_type": "code",
   "execution_count": 33,
   "metadata": {},
   "outputs": [
    {
     "data": {
      "text/html": [
       "<video alt=\"test\" controls>\n",
       "                <source src=\"data:video/mp4;base64,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\" type=\"video/mp4\" />\n",
       "             </video>"
      ],
      "text/plain": [
       "<IPython.core.display.HTML object>"
      ]
     },
     "execution_count": 33,
     "metadata": {},
     "output_type": "execute_result"
    }
   ],
   "source": [
    "HTML(display_videos('cnn_test_explore2.mp4'))"
   ]
  },
  {
   "cell_type": "markdown",
   "metadata": {},
   "source": [
    "***"
   ]
  }
 ],
 "metadata": {
  "kernelspec": {
   "display_name": "Python 3",
   "language": "python",
   "name": "python3"
  },
  "language_info": {
   "codemirror_mode": {
    "name": "ipython",
    "version": 3
   },
   "file_extension": ".py",
   "mimetype": "text/x-python",
   "name": "python",
   "nbconvert_exporter": "python",
   "pygments_lexer": "ipython3",
   "version": "3.6.4"
  }
 },
 "nbformat": 4,
 "nbformat_minor": 2
}
